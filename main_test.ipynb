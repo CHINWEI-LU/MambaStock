{
 "cells": [
  {
   "cell_type": "code",
   "execution_count": 1,
   "id": "a2aa6c0c",
   "metadata": {},
   "outputs": [
    {
     "name": "stderr",
     "output_type": "stream",
     "text": [
      "/home/luchinwei/anaconda3/envs/mambastock/lib/python3.7/site-packages/tqdm/auto.py:21: TqdmWarning: IProgress not found. Please update jupyter and ipywidgets. See https://ipywidgets.readthedocs.io/en/stable/user_install.html\n",
      "  from .autonotebook import tqdm as notebook_tqdm\n"
     ]
    }
   ],
   "source": [
    "import numpy as np\n",
    "import pandas as pd\n",
    "import matplotlib.pyplot as plt\n",
    "from sklearn.metrics import mean_squared_error,mean_absolute_error,r2_score\n",
    "import torch\n",
    "import torch.nn as nn\n",
    "import torch.nn.functional as F\n",
    "from mamba import Mamba, MambaConfig\n",
    "import argparse\n",
    "from datetime import datetime\n",
    "from sklearn.decomposition import PCA"
   ]
  },
  {
   "cell_type": "code",
   "execution_count": 2,
   "id": "1896f2ba",
   "metadata": {},
   "outputs": [],
   "source": [
    "save_dir = '0728_2330_value_pca_7/'\n",
    "use_cuda = True\n",
    "seed_num = 100\n",
    "epochs = 1000\n",
    "loss_fnc = F.smooth_l1_loss\n",
    "lr = 0.001\n",
    "wd = 1e-5\n",
    "hidden = 16\n",
    "layer = 3\n",
    "n_test = 350\n",
    "ts_code = 2330\n",
    "risk_free = 0.017\n"
   ]
  },
  {
   "cell_type": "code",
   "execution_count": 3,
   "id": "1a9a4cfc",
   "metadata": {},
   "outputs": [],
   "source": [
    "def evaluation_metric(y_test,y_hat):\n",
    "    MSE = mean_squared_error(y_test, y_hat)\n",
    "    RMSE = MSE**0.5\n",
    "    MAE = mean_absolute_error(y_test,y_hat)\n",
    "    R2 = r2_score(y_test,y_hat)\n",
    "    print('%.4f %.4f %.4f %.4f' % (MSE,RMSE,MAE,R2))\n",
    "\n",
    "def set_seed(seed,cuda):\n",
    "    np.random.seed(seed)\n",
    "    torch.manual_seed(seed)\n",
    "    if cuda:\n",
    "        torch.cuda.manual_seed(seed)\n",
    "\n",
    "def dateinf(series, n_test):\n",
    "    lt = len(series)\n",
    "    print('Training start',series[0])\n",
    "    print('Training end',series[lt-n_test-1])\n",
    "    print('Testing start',series[lt-n_test])\n",
    "    print('Testing end',series[lt-1])\n",
    "\n",
    "set_seed(seed_num,use_cuda)\n",
    "\n",
    "class Net(nn.Module):\n",
    "    def __init__(self, in_dim, out_dim, use_pca=False, pca_dim=None, pca_components=None):\n",
    "        super().__init__()\n",
    "        self.use_pca = use_pca\n",
    "\n",
    "        if self.use_pca:\n",
    "            assert pca_dim is not None and pca_components is not None, \"需提供 pca_dim 和 pca_components\"\n",
    "            self.pca_layer = nn.Linear(in_dim, pca_dim, bias=False)\n",
    "            self.pca_layer.weight.data = torch.tensor(pca_components, dtype=torch.float32)\n",
    "            self.pca_layer.weight.requires_grad = False  # 若不希望訓練 PCA 權重\n",
    "            in_dim = pca_dim  # 更新模型輸入維度\n",
    "\n",
    "        self.config = MambaConfig(d_model=hidden, n_layers=layer)\n",
    "        self.mamba = nn.Sequential(\n",
    "            nn.Linear(in_dim, hidden),\n",
    "            Mamba(self.config),\n",
    "            nn.Linear(hidden, out_dim),\n",
    "            # nn.Tanh()\n",
    "        )\n",
    "\n",
    "    def forward(self, x):\n",
    "        if self.use_pca:\n",
    "            x = self.pca_layer(x)\n",
    "        x = self.mamba(x)\n",
    "        return x.flatten()\n",
    "\n",
    "def PredictWithData(trainX, trainy, testX, save_dir,use_pca=False, pca_dim=None, pca_components=None, val_ratio=0.2, patience=150, loss_fnc=None):\n",
    "    clf = Net(in_dim=trainX.shape[1], out_dim=1, use_pca=use_pca, pca_dim=pca_dim, pca_components=pca_components)\n",
    "\n",
    "    opt = torch.optim.Adam(clf.parameters(),lr=lr,weight_decay=wd)\n",
    "    \n",
    "    val_size = int(len(trainX) * val_ratio)\n",
    "    \n",
    "    X_train = trainX[:-val_size]\n",
    "    y_train = trainy[:-val_size]\n",
    "    X_val = trainX[-val_size:]\n",
    "    y_val = trainy[-val_size:]\n",
    "    \n",
    "    xt = torch.from_numpy(X_train).float().unsqueeze(1)\n",
    "    xv = torch.from_numpy(X_val).float().unsqueeze(1)\n",
    "    x_test = torch.from_numpy(testX).float().unsqueeze(1)\n",
    "    yt = torch.from_numpy(y_train).float()\n",
    "    yv = torch.from_numpy(y_val).float()\n",
    "    \n",
    "    if loss_fnc is None:\n",
    "        loss_fnc = F.mse_loss\n",
    "    \n",
    "    best_val_loss = np.inf\n",
    "    best_epoch = 0\n",
    "    best_state_dict = None\n",
    "    \n",
    "    if use_cuda:\n",
    "        clf = clf.cuda()\n",
    "        xt, xv, x_test = xt.cuda(), xv.cuda(), x_test.cuda()\n",
    "        yt, yv = yt.cuda(), yv.cuda()\n",
    "    \n",
    "    for e in range(epochs):\n",
    "        clf.train()\n",
    "        pred = clf(xt)\n",
    "        loss = loss_fnc(pred, yt)\n",
    "\n",
    "        opt.zero_grad()\n",
    "        loss.backward()\n",
    "        opt.step()\n",
    "\n",
    "        clf.eval()\n",
    "        with torch.no_grad():\n",
    "            val_pred = clf(xv)\n",
    "            val_loss = loss_fnc(val_pred, yv)\n",
    "\n",
    "        print(f'Epoch {e:03d} | Val Loss: {val_loss.item():.4f}')\n",
    "        \n",
    "        if val_loss.item() < best_val_loss:\n",
    "            best_val_loss = val_loss.item()\n",
    "            best_epoch = e\n",
    "            best_state_dict = clf.state_dict()\n",
    "        elif e - best_epoch >= patience:\n",
    "            print(f\"Early stopping triggered at epoch {e}\")\n",
    "            break\n",
    "    \n",
    "    timestamp = datetime.now().strftime(\"%Y%m%d_%H%M%S\")\n",
    "    save_path = f\"{save_dir}model_{timestamp}.pth\"\n",
    "    torch.save(best_state_dict, save_path)\n",
    "    print(f\"Best model saved to: {save_path}\")\n",
    "    \n",
    "    clf.load_state_dict(best_state_dict)\n",
    "    clf.eval()\n",
    "    mat = clf(x_test)\n",
    "    if use_cuda: mat = mat.cpu()\n",
    "    yhat = mat.detach().numpy().flatten()\n",
    "    return yhat"
   ]
  },
  {
   "cell_type": "markdown",
   "id": "3ab3c6bf",
   "metadata": {},
   "source": [
    "## 看一下資料"
   ]
  },
  {
   "cell_type": "code",
   "execution_count": null,
   "id": "32569a8d",
   "metadata": {},
   "outputs": [],
   "source": [
    "data = pd.read_csv(str(ts_code)+\"_value\"+'.csv')\n",
    "# data = pd.read_csv(str(ts_code)+'.csv')\n",
    "data['trade_date'] = pd.to_datetime(data['trade_date'], format='%Y/%m/%d')\n",
    "close = data.pop('close_TW').values\n",
    "ratechg = data['close_TW_roc'].apply(lambda x:x).values\n",
    "data.drop(columns=['close_TW_roc'],inplace=True)\n",
    "dat = data.iloc[:,4:]\n"
   ]
  },
  {
   "cell_type": "code",
   "execution_count": null,
   "id": "f30304b7",
   "metadata": {},
   "outputs": [],
   "source": [
    "dat"
   ]
  },
  {
   "cell_type": "code",
   "execution_count": null,
   "id": "cc248ba6",
   "metadata": {},
   "outputs": [],
   "source": [
    "# data = pd.read_csv(str(ts_code)+'.csv')\n",
    "data = pd.read_csv(str(ts_code)+\"_value\"+'.csv')\n",
    "data['trade_date'] = pd.to_datetime(data['trade_date'], format='%Y/%m/%d')\n",
    "close = data.pop('close_TW').values\n",
    "ratechg = data['close_TW_roc'].apply(lambda x:x).values\n",
    "data.drop(columns=['close_TW_roc'],inplace=True)\n",
    "dat = data.iloc[:,4:82].values\n",
    "trainX, testX = dat[:-n_test, :], dat[-n_test:, :]\n",
    "trainy = ratechg[:-n_test]"
   ]
  },
  {
   "cell_type": "code",
   "execution_count": null,
   "id": "8d9d9fe4",
   "metadata": {},
   "outputs": [],
   "source": [
    "len(trainX)"
   ]
  },
  {
   "cell_type": "code",
   "execution_count": null,
   "id": "d5739f56",
   "metadata": {},
   "outputs": [],
   "source": [
    "len(testX)"
   ]
  },
  {
   "cell_type": "code",
   "execution_count": null,
   "id": "671024ca",
   "metadata": {},
   "outputs": [],
   "source": [
    "import seaborn as sns\n",
    "import pandas as pd"
   ]
  },
  {
   "cell_type": "code",
   "execution_count": null,
   "id": "a6506768",
   "metadata": {},
   "outputs": [],
   "source": [
    "# data = pd.read_csv(str(ts_code)+'.csv')\\\n",
    "data = pd.read_csv(str(ts_code)+\"_value\"+'.csv')\n",
    "corr_matrix = data.corr()\n",
    "sns.heatmap(corr_matrix, cmap='coolwarm', center=0,\n",
    "            xticklabels=False,\n",
    "            yticklabels=False)\n",
    "\n",
    "# corr_matrix.to_csv(\"correlation_matrix.csv\")"
   ]
  },
  {
   "cell_type": "markdown",
   "id": "152703a3",
   "metadata": {},
   "source": [
    "## 開始訓練"
   ]
  },
  {
   "cell_type": "markdown",
   "id": "cb065660",
   "metadata": {},
   "source": [
    "#### 不做 pca"
   ]
  },
  {
   "cell_type": "code",
   "execution_count": null,
   "id": "09b952d2",
   "metadata": {},
   "outputs": [],
   "source": [
    "# data = pd.read_csv(str(ts_code)+'.csv')\n",
    "data = pd.read_csv(str(ts_code)+\"_value\"+'.csv')\n",
    "data['trade_date'] = pd.to_datetime(data['trade_date'], format='%Y/%m/%d')\n",
    "close = data.pop('close_TW').values\n",
    "ratechg = data['close_TW_roc'].apply(lambda x:x).values\n",
    "data.drop(columns=['close_TW_roc'],inplace=True)\n",
    "dat = data.iloc[:,4:].values\n",
    "trainX, testX = dat[:-n_test, :], dat[-n_test:, :]\n",
    "trainy = ratechg[:-n_test]"
   ]
  },
  {
   "cell_type": "markdown",
   "id": "85db3976",
   "metadata": {},
   "source": [
    "#### 做 pca"
   ]
  },
  {
   "cell_type": "code",
   "execution_count": 4,
   "id": "50777688",
   "metadata": {},
   "outputs": [],
   "source": [
    "data = pd.read_csv(str(ts_code)+\"_value\"+'.csv')\n",
    "data['trade_date'] = pd.to_datetime(data['trade_date'], format='%Y/%m/%d')\n",
    "\n",
    "# 拆離 label 欄位\n",
    "close = data.pop('close_TW').values\n",
    "ratechg = data['close_TW_roc'].values\n",
    "data.drop(columns=['close_TW_roc'], inplace=True)\n",
    "\n",
    "# 擷取有效特徵欄位區段\n",
    "dat = data.iloc[:, 4:].values"
   ]
  },
  {
   "cell_type": "code",
   "execution_count": 5,
   "id": "a534b82d",
   "metadata": {},
   "outputs": [],
   "source": [
    "use_pca = True\n",
    "pca_dim = 5\n",
    "\n",
    "if use_pca:\n",
    "    # 建立 PCA 模型並訓練\n",
    "    pca = PCA(n_components=pca_dim)\n",
    "    pca.fit(dat)\n",
    "\n",
    "    # 抽出主成分向量（前 pca_dim 個）\n",
    "    pca_components = pca.components_[:pca_dim]  # shape: [5, 原始維度]\n",
    "\n",
    "    # 投影資料到 PCA 空間\n",
    "    dat = dat @ pca_components.T\n",
    "    \n",
    "trainX, testX = dat[:-n_test], dat[-n_test:]\n",
    "trainy = ratechg[:-n_test]"
   ]
  },
  {
   "cell_type": "markdown",
   "id": "286b7fe7",
   "metadata": {},
   "source": [
    "#### 做與不做 pca 的後續"
   ]
  },
  {
   "cell_type": "code",
   "execution_count": 6,
   "id": "a4f2f608",
   "metadata": {},
   "outputs": [
    {
     "name": "stdout",
     "output_type": "stream",
     "text": [
      "Epoch 000 | Val Loss: 0.0092\n",
      "Epoch 001 | Val Loss: 0.0065\n",
      "Epoch 002 | Val Loss: 0.0042\n",
      "Epoch 003 | Val Loss: 0.0025\n",
      "Epoch 004 | Val Loss: 0.0013\n",
      "Epoch 005 | Val Loss: 0.0006\n",
      "Epoch 006 | Val Loss: 0.0002\n",
      "Epoch 007 | Val Loss: 0.0002\n",
      "Epoch 008 | Val Loss: 0.0004\n",
      "Epoch 009 | Val Loss: 0.0007\n",
      "Epoch 010 | Val Loss: 0.0010\n",
      "Epoch 011 | Val Loss: 0.0014\n",
      "Epoch 012 | Val Loss: 0.0016\n",
      "Epoch 013 | Val Loss: 0.0017\n",
      "Epoch 014 | Val Loss: 0.0017\n",
      "Epoch 015 | Val Loss: 0.0015\n",
      "Epoch 016 | Val Loss: 0.0013\n",
      "Epoch 017 | Val Loss: 0.0011\n",
      "Epoch 018 | Val Loss: 0.0008\n",
      "Epoch 019 | Val Loss: 0.0006\n",
      "Epoch 020 | Val Loss: 0.0004\n",
      "Epoch 021 | Val Loss: 0.0003\n",
      "Epoch 022 | Val Loss: 0.0002\n",
      "Epoch 023 | Val Loss: 0.0002\n",
      "Epoch 024 | Val Loss: 0.0002\n",
      "Epoch 025 | Val Loss: 0.0002\n",
      "Epoch 026 | Val Loss: 0.0003\n",
      "Epoch 027 | Val Loss: 0.0003\n",
      "Epoch 028 | Val Loss: 0.0004\n",
      "Epoch 029 | Val Loss: 0.0004\n",
      "Epoch 030 | Val Loss: 0.0004\n",
      "Epoch 031 | Val Loss: 0.0004\n",
      "Epoch 032 | Val Loss: 0.0004\n",
      "Epoch 033 | Val Loss: 0.0003\n",
      "Epoch 034 | Val Loss: 0.0003\n",
      "Epoch 035 | Val Loss: 0.0002\n",
      "Epoch 036 | Val Loss: 0.0002\n",
      "Epoch 037 | Val Loss: 0.0002\n",
      "Epoch 038 | Val Loss: 0.0002\n",
      "Epoch 039 | Val Loss: 0.0002\n",
      "Epoch 040 | Val Loss: 0.0002\n",
      "Epoch 041 | Val Loss: 0.0002\n",
      "Epoch 042 | Val Loss: 0.0002\n",
      "Epoch 043 | Val Loss: 0.0002\n",
      "Epoch 044 | Val Loss: 0.0002\n",
      "Epoch 045 | Val Loss: 0.0002\n",
      "Epoch 046 | Val Loss: 0.0002\n",
      "Epoch 047 | Val Loss: 0.0002\n",
      "Epoch 048 | Val Loss: 0.0002\n",
      "Epoch 049 | Val Loss: 0.0002\n",
      "Epoch 050 | Val Loss: 0.0002\n",
      "Epoch 051 | Val Loss: 0.0002\n",
      "Epoch 052 | Val Loss: 0.0002\n",
      "Epoch 053 | Val Loss: 0.0002\n",
      "Epoch 054 | Val Loss: 0.0002\n",
      "Epoch 055 | Val Loss: 0.0002\n",
      "Epoch 056 | Val Loss: 0.0002\n",
      "Epoch 057 | Val Loss: 0.0002\n",
      "Epoch 058 | Val Loss: 0.0002\n",
      "Epoch 059 | Val Loss: 0.0002\n",
      "Epoch 060 | Val Loss: 0.0002\n",
      "Epoch 061 | Val Loss: 0.0002\n",
      "Epoch 062 | Val Loss: 0.0002\n",
      "Epoch 063 | Val Loss: 0.0002\n",
      "Epoch 064 | Val Loss: 0.0002\n",
      "Epoch 065 | Val Loss: 0.0002\n",
      "Epoch 066 | Val Loss: 0.0002\n",
      "Epoch 067 | Val Loss: 0.0002\n",
      "Epoch 068 | Val Loss: 0.0002\n",
      "Epoch 069 | Val Loss: 0.0002\n",
      "Epoch 070 | Val Loss: 0.0002\n",
      "Epoch 071 | Val Loss: 0.0002\n",
      "Epoch 072 | Val Loss: 0.0002\n",
      "Epoch 073 | Val Loss: 0.0002\n",
      "Epoch 074 | Val Loss: 0.0002\n",
      "Epoch 075 | Val Loss: 0.0002\n",
      "Epoch 076 | Val Loss: 0.0002\n",
      "Epoch 077 | Val Loss: 0.0002\n",
      "Epoch 078 | Val Loss: 0.0002\n",
      "Epoch 079 | Val Loss: 0.0002\n",
      "Epoch 080 | Val Loss: 0.0002\n",
      "Epoch 081 | Val Loss: 0.0002\n",
      "Epoch 082 | Val Loss: 0.0002\n",
      "Epoch 083 | Val Loss: 0.0002\n",
      "Epoch 084 | Val Loss: 0.0002\n",
      "Epoch 085 | Val Loss: 0.0002\n",
      "Epoch 086 | Val Loss: 0.0002\n",
      "Epoch 087 | Val Loss: 0.0002\n",
      "Epoch 088 | Val Loss: 0.0002\n",
      "Epoch 089 | Val Loss: 0.0002\n",
      "Epoch 090 | Val Loss: 0.0002\n",
      "Epoch 091 | Val Loss: 0.0002\n",
      "Epoch 092 | Val Loss: 0.0002\n",
      "Epoch 093 | Val Loss: 0.0002\n",
      "Epoch 094 | Val Loss: 0.0002\n",
      "Epoch 095 | Val Loss: 0.0002\n",
      "Epoch 096 | Val Loss: 0.0002\n",
      "Epoch 097 | Val Loss: 0.0002\n",
      "Epoch 098 | Val Loss: 0.0002\n",
      "Epoch 099 | Val Loss: 0.0002\n",
      "Epoch 100 | Val Loss: 0.0002\n",
      "Epoch 101 | Val Loss: 0.0002\n",
      "Epoch 102 | Val Loss: 0.0002\n",
      "Epoch 103 | Val Loss: 0.0002\n",
      "Epoch 104 | Val Loss: 0.0002\n",
      "Epoch 105 | Val Loss: 0.0002\n",
      "Epoch 106 | Val Loss: 0.0002\n",
      "Epoch 107 | Val Loss: 0.0002\n",
      "Epoch 108 | Val Loss: 0.0002\n",
      "Epoch 109 | Val Loss: 0.0002\n",
      "Epoch 110 | Val Loss: 0.0002\n",
      "Epoch 111 | Val Loss: 0.0002\n",
      "Epoch 112 | Val Loss: 0.0002\n",
      "Epoch 113 | Val Loss: 0.0002\n",
      "Epoch 114 | Val Loss: 0.0002\n",
      "Epoch 115 | Val Loss: 0.0002\n",
      "Epoch 116 | Val Loss: 0.0002\n",
      "Epoch 117 | Val Loss: 0.0002\n",
      "Epoch 118 | Val Loss: 0.0002\n",
      "Epoch 119 | Val Loss: 0.0002\n",
      "Epoch 120 | Val Loss: 0.0002\n",
      "Epoch 121 | Val Loss: 0.0002\n",
      "Epoch 122 | Val Loss: 0.0002\n",
      "Epoch 123 | Val Loss: 0.0002\n",
      "Epoch 124 | Val Loss: 0.0002\n",
      "Epoch 125 | Val Loss: 0.0002\n",
      "Epoch 126 | Val Loss: 0.0002\n",
      "Epoch 127 | Val Loss: 0.0002\n",
      "Epoch 128 | Val Loss: 0.0002\n",
      "Epoch 129 | Val Loss: 0.0002\n",
      "Epoch 130 | Val Loss: 0.0002\n",
      "Epoch 131 | Val Loss: 0.0002\n",
      "Epoch 132 | Val Loss: 0.0002\n",
      "Epoch 133 | Val Loss: 0.0002\n",
      "Epoch 134 | Val Loss: 0.0002\n",
      "Epoch 135 | Val Loss: 0.0002\n",
      "Epoch 136 | Val Loss: 0.0002\n",
      "Epoch 137 | Val Loss: 0.0002\n",
      "Epoch 138 | Val Loss: 0.0002\n",
      "Epoch 139 | Val Loss: 0.0002\n",
      "Epoch 140 | Val Loss: 0.0002\n",
      "Epoch 141 | Val Loss: 0.0002\n",
      "Epoch 142 | Val Loss: 0.0002\n",
      "Epoch 143 | Val Loss: 0.0002\n",
      "Epoch 144 | Val Loss: 0.0002\n",
      "Epoch 145 | Val Loss: 0.0002\n",
      "Epoch 146 | Val Loss: 0.0002\n",
      "Epoch 147 | Val Loss: 0.0002\n",
      "Epoch 148 | Val Loss: 0.0002\n",
      "Epoch 149 | Val Loss: 0.0002\n",
      "Epoch 150 | Val Loss: 0.0002\n",
      "Epoch 151 | Val Loss: 0.0002\n",
      "Epoch 152 | Val Loss: 0.0002\n",
      "Epoch 153 | Val Loss: 0.0002\n",
      "Epoch 154 | Val Loss: 0.0002\n",
      "Epoch 155 | Val Loss: 0.0002\n",
      "Epoch 156 | Val Loss: 0.0002\n",
      "Epoch 157 | Val Loss: 0.0002\n",
      "Epoch 158 | Val Loss: 0.0002\n",
      "Epoch 159 | Val Loss: 0.0002\n",
      "Epoch 160 | Val Loss: 0.0002\n",
      "Epoch 161 | Val Loss: 0.0002\n",
      "Epoch 162 | Val Loss: 0.0002\n",
      "Epoch 163 | Val Loss: 0.0002\n",
      "Epoch 164 | Val Loss: 0.0002\n",
      "Epoch 165 | Val Loss: 0.0002\n",
      "Epoch 166 | Val Loss: 0.0002\n",
      "Epoch 167 | Val Loss: 0.0002\n",
      "Epoch 168 | Val Loss: 0.0002\n",
      "Epoch 169 | Val Loss: 0.0002\n",
      "Epoch 170 | Val Loss: 0.0002\n",
      "Epoch 171 | Val Loss: 0.0002\n",
      "Epoch 172 | Val Loss: 0.0002\n",
      "Epoch 173 | Val Loss: 0.0002\n",
      "Epoch 174 | Val Loss: 0.0002\n",
      "Epoch 175 | Val Loss: 0.0002\n",
      "Epoch 176 | Val Loss: 0.0002\n",
      "Epoch 177 | Val Loss: 0.0002\n",
      "Epoch 178 | Val Loss: 0.0002\n",
      "Epoch 179 | Val Loss: 0.0002\n",
      "Epoch 180 | Val Loss: 0.0002\n",
      "Epoch 181 | Val Loss: 0.0002\n",
      "Epoch 182 | Val Loss: 0.0002\n",
      "Epoch 183 | Val Loss: 0.0002\n",
      "Epoch 184 | Val Loss: 0.0002\n",
      "Epoch 185 | Val Loss: 0.0002\n",
      "Epoch 186 | Val Loss: 0.0002\n",
      "Epoch 187 | Val Loss: 0.0002\n",
      "Epoch 188 | Val Loss: 0.0002\n",
      "Epoch 189 | Val Loss: 0.0002\n",
      "Epoch 190 | Val Loss: 0.0002\n",
      "Epoch 191 | Val Loss: 0.0002\n",
      "Epoch 192 | Val Loss: 0.0002\n",
      "Epoch 193 | Val Loss: 0.0002\n",
      "Epoch 194 | Val Loss: 0.0002\n",
      "Epoch 195 | Val Loss: 0.0002\n",
      "Epoch 196 | Val Loss: 0.0002\n",
      "Epoch 197 | Val Loss: 0.0002\n",
      "Epoch 198 | Val Loss: 0.0002\n",
      "Epoch 199 | Val Loss: 0.0002\n",
      "Epoch 200 | Val Loss: 0.0002\n",
      "Epoch 201 | Val Loss: 0.0002\n",
      "Epoch 202 | Val Loss: 0.0002\n",
      "Epoch 203 | Val Loss: 0.0002\n",
      "Epoch 204 | Val Loss: 0.0002\n",
      "Epoch 205 | Val Loss: 0.0002\n",
      "Epoch 206 | Val Loss: 0.0002\n",
      "Epoch 207 | Val Loss: 0.0002\n",
      "Epoch 208 | Val Loss: 0.0002\n",
      "Epoch 209 | Val Loss: 0.0002\n",
      "Epoch 210 | Val Loss: 0.0002\n",
      "Epoch 211 | Val Loss: 0.0002\n",
      "Epoch 212 | Val Loss: 0.0002\n",
      "Epoch 213 | Val Loss: 0.0002\n",
      "Epoch 214 | Val Loss: 0.0002\n",
      "Epoch 215 | Val Loss: 0.0002\n",
      "Epoch 216 | Val Loss: 0.0002\n",
      "Epoch 217 | Val Loss: 0.0002\n",
      "Epoch 218 | Val Loss: 0.0002\n",
      "Epoch 219 | Val Loss: 0.0002\n",
      "Epoch 220 | Val Loss: 0.0002\n",
      "Epoch 221 | Val Loss: 0.0002\n",
      "Epoch 222 | Val Loss: 0.0002\n",
      "Epoch 223 | Val Loss: 0.0002\n",
      "Epoch 224 | Val Loss: 0.0002\n",
      "Epoch 225 | Val Loss: 0.0002\n",
      "Epoch 226 | Val Loss: 0.0002\n",
      "Epoch 227 | Val Loss: 0.0002\n",
      "Epoch 228 | Val Loss: 0.0002\n",
      "Epoch 229 | Val Loss: 0.0002\n",
      "Epoch 230 | Val Loss: 0.0002\n",
      "Epoch 231 | Val Loss: 0.0002\n",
      "Epoch 232 | Val Loss: 0.0002\n",
      "Early stopping triggered at epoch 232\n",
      "Best model saved to: 0728_2330_value_pca_7/model_20250729_081010.pth\n"
     ]
    }
   ],
   "source": [
    "predictions = PredictWithData(trainX, trainy, testX, save_dir, loss_fnc=loss_fnc)\n",
    "time = data['trade_date'][-n_test:]\n",
    "data1 = close[-n_test:]\n",
    "finalpredicted_stock_price = []\n",
    "pred = close[-n_test-1]\n",
    "for i in range(n_test):\n",
    "    pred = close[-n_test-1+i]*(1+predictions[i])\n",
    "    finalpredicted_stock_price.append(pred)"
   ]
  },
  {
   "cell_type": "code",
   "execution_count": 7,
   "id": "ed702f87",
   "metadata": {},
   "outputs": [
    {
     "name": "stdout",
     "output_type": "stream",
     "text": [
      "Training start 2014-09-26 00:00:00\n",
      "Training end 2023-12-26 00:00:00\n",
      "Testing start 2023-12-27 00:00:00\n",
      "Testing end 2025-07-08 00:00:00\n",
      "MSE RMSE MAE R2\n",
      "436.8034 20.8998 15.0520 0.9784\n"
     ]
    },
    {
     "name": "stderr",
     "output_type": "stream",
     "text": [
      "/home/luchinwei/anaconda3/envs/mambastock/lib/python3.7/site-packages/pandas/plotting/_matplotlib/converter.py:103: FutureWarning: Using an implicitly registered datetime converter for a matplotlib plotting method. The converter was registered by pandas on import. Future versions of pandas will require you to explicitly register matplotlib converters.\n",
      "\n",
      "To register the converters:\n",
      "\t>>> from pandas.plotting import register_matplotlib_converters\n",
      "\t>>> register_matplotlib_converters()\n",
      "  warnings.warn(msg, FutureWarning)\n"
     ]
    },
    {
     "data": {
      "image/png": "[encoded data removed]",
      "text/plain": [
       "<Figure size 1000x600 with 1 Axes>"
      ]
     },
     "metadata": {},
     "output_type": "display_data"
    }
   ],
   "source": [
    "dateinf(data['trade_date'],n_test)\n",
    "print('MSE RMSE MAE R2')\n",
    "evaluation_metric(data1, finalpredicted_stock_price)\n",
    "plt.figure(figsize=(10, 6))\n",
    "plt.plot(time, data1, label='Stock Price')\n",
    "plt.plot(time, finalpredicted_stock_price, label='Predicted Stock Price')\n",
    "plt.title('Stock Price Prediction')\n",
    "plt.xlabel('Time', fontsize=12, verticalalignment='top')\n",
    "plt.ylabel('Close', fontsize=14, horizontalalignment='center')\n",
    "plt.legend()\n",
    "plt.show()"
   ]
  },
  {
   "cell_type": "markdown",
   "id": "a95bf708",
   "metadata": {},
   "source": [
    "## Test\n"
   ]
  },
  {
   "cell_type": "markdown",
   "id": "b7234a1d",
   "metadata": {},
   "source": [
    "#### 開啟訓練檔案"
   ]
  },
  {
   "cell_type": "code",
   "execution_count": null,
   "id": "ab712381",
   "metadata": {},
   "outputs": [],
   "source": [
    "import os"
   ]
  },
  {
   "cell_type": "code",
   "execution_count": null,
   "id": "1737be0b",
   "metadata": {},
   "outputs": [],
   "source": [
    "for f in os.listdir(save_dir):\n",
    "    print(f)"
   ]
  },
  {
   "cell_type": "code",
   "execution_count": null,
   "id": "e65afa3e",
   "metadata": {},
   "outputs": [],
   "source": [
    "file = \"model_20250728_193133.pth\""
   ]
  },
  {
   "cell_type": "code",
   "execution_count": null,
   "id": "ae3ed748",
   "metadata": {},
   "outputs": [],
   "source": [
    "timestamp = file.split(\"_\")[1] + \"_\" + file.split(\"_\")[2].split(\".\")[0]"
   ]
  },
  {
   "cell_type": "code",
   "execution_count": null,
   "id": "bf16af7c",
   "metadata": {},
   "outputs": [],
   "source": [
    "clf = Net(len(trainX[0]),1)\n",
    "clf.load_state_dict(torch.load(save_dir+file))\n",
    "clf.eval()"
   ]
  },
  {
   "cell_type": "code",
   "execution_count": null,
   "id": "f75f2553",
   "metadata": {},
   "outputs": [],
   "source": [
    "input_tensor = torch.tensor(testX, dtype=torch.float32)\n",
    "input_tensor = input_tensor.unsqueeze(0)"
   ]
  },
  {
   "cell_type": "code",
   "execution_count": null,
   "id": "cbe331b0",
   "metadata": {},
   "outputs": [],
   "source": [
    "with torch.no_grad():\n",
    "    predictions = clf(input_tensor)"
   ]
  },
  {
   "cell_type": "code",
   "execution_count": null,
   "id": "b63bf8b4",
   "metadata": {},
   "outputs": [],
   "source": [
    "predictions"
   ]
  },
  {
   "cell_type": "code",
   "execution_count": null,
   "id": "061ae75a",
   "metadata": {},
   "outputs": [],
   "source": [
    "len(predictions)"
   ]
  },
  {
   "cell_type": "code",
   "execution_count": null,
   "id": "87252f6d",
   "metadata": {},
   "outputs": [],
   "source": [
    "test_return = ratechg[-n_test:]"
   ]
  },
  {
   "cell_type": "code",
   "execution_count": null,
   "id": "91d0b5cc",
   "metadata": {},
   "outputs": [],
   "source": [
    "len(test_return)"
   ]
  },
  {
   "cell_type": "markdown",
   "id": "d875c58f",
   "metadata": {},
   "source": [
    "#### Return Rate Distribution (Train)"
   ]
  },
  {
   "cell_type": "code",
   "execution_count": null,
   "id": "0023aebc",
   "metadata": {},
   "outputs": [],
   "source": [
    "plt.hist(trainy, bins=50)\n",
    "plt.title(\"2330 Return Rate Distribution (Train)\")\n",
    "timestamp = file.split(\"_\")[1] + \"_\" + file.split(\"_\")[2].split(\".\")[0]\n",
    "filename = f\"{ts_code}_Return_Rate_Distribution_(Train)_{timestamp}.png\"\n",
    "folder = '0728_2330/img'\n",
    "full_path = os.path.join(folder, filename)\n",
    "os.makedirs(folder, exist_ok=True)\n",
    "\n",
    "plt.savefig(full_path, dpi=300)\n",
    "\n",
    "plt.show()"
   ]
  },
  {
   "cell_type": "markdown",
   "id": "2b1385da",
   "metadata": {},
   "source": [
    "#### Return Rate Distribution (Test)"
   ]
  },
  {
   "cell_type": "code",
   "execution_count": null,
   "id": "20ae5684",
   "metadata": {},
   "outputs": [],
   "source": [
    "plt.hist(test_return, bins=50)\n",
    "plt.title(\"2330 Return Rate Distribution (Test)\")\n",
    "timestamp = file.split(\"_\")[1] + \"_\" + file.split(\"_\")[2].split(\".\")[0]\n",
    "filename = f\"{ts_code}_Return_Rate_Distribution_(Test)_{timestamp}.png\"\n",
    "folder = '0728_2330/img'\n",
    "full_path = os.path.join(folder, filename)\n",
    "os.makedirs(folder, exist_ok=True)\n",
    "\n",
    "plt.savefig(full_path, dpi=300)\n",
    "plt.show()"
   ]
  },
  {
   "cell_type": "markdown",
   "id": "9e6e56a3",
   "metadata": {},
   "source": [
    "#### Residual Distribution"
   ]
  },
  {
   "cell_type": "code",
   "execution_count": null,
   "id": "26d1891d",
   "metadata": {},
   "outputs": [],
   "source": [
    "residual = predictions - test_return\n",
    "plt.hist(residual.numpy(), bins=50)\n",
    "plt.title(\"2330 Residual Distribution\")\n",
    "timestamp = file.split(\"_\")[1] + \"_\" + file.split(\"_\")[2].split(\".\")[0]\n",
    "filename = f\"{ts_code}_Residual_Distribution_{timestamp}.png\"\n",
    "folder = '0728_2330/img'\n",
    "full_path = os.path.join(folder, filename)\n",
    "os.makedirs(folder, exist_ok=True)\n",
    "\n",
    "plt.savefig(full_path, dpi=300)\n",
    "plt.show()"
   ]
  },
  {
   "cell_type": "markdown",
   "id": "57b33b13",
   "metadata": {},
   "source": [
    "#### ScatterPlot"
   ]
  },
  {
   "cell_type": "code",
   "execution_count": null,
   "id": "4f5e678a",
   "metadata": {},
   "outputs": [],
   "source": [
    "plt.scatter(predictions, test_return, alpha=0.4)\n",
    "timestamp = file.split(\"_\")[1] + \"_\" + file.split(\"_\")[2].split(\".\")[0]\n",
    "filename = f\"{ts_code}_ScatterPlot_{timestamp}.png\"\n",
    "folder = '0728_2330_value/img'\n",
    "full_path = os.path.join(folder, filename)\n",
    "os.makedirs(folder, exist_ok=True)\n",
    "\n",
    "\n",
    "plt.xlabel(\"Predicted Return\")\n",
    "plt.ylabel(\"True Return\")\n",
    "plt.title(\"Prediction vs Truth\")\n",
    "plt.grid(True)\n",
    "plt.savefig(full_path, dpi=300)\n",
    "plt.show()"
   ]
  },
  {
   "cell_type": "code",
   "execution_count": null,
   "id": "d61e0370",
   "metadata": {},
   "outputs": [],
   "source": [
    "mask_positive_true = test_return > 0\n",
    "plt.hist(predictions[mask_positive_true].numpy(), bins=50)\n",
    "plt.title(\"Predicted Values for Positive Ground Truth\")\n"
   ]
  },
  {
   "cell_type": "code",
   "execution_count": null,
   "id": "2807d5ef",
   "metadata": {},
   "outputs": [],
   "source": []
  },
  {
   "cell_type": "code",
   "execution_count": null,
   "id": "432fd9cc",
   "metadata": {},
   "outputs": [],
   "source": [
    "def sharpe_ratio(pred_returns, risk_free_rate = risk_free):\n",
    "    # pred_returns 是 10 天的報酬率，例如 array([0.01, -0.02, ..., 0.005])\n",
    "    excess_returns = pred_returns - risk_free_rate\n",
    "    mean_excess_return = np.mean(excess_returns)\n",
    "    std_dev = np.std(pred_returns)\n",
    "    return mean_excess_return / std_dev if std_dev != 0 else np.nan"
   ]
  },
  {
   "cell_type": "code",
   "execution_count": null,
   "id": "bc466d7a",
   "metadata": {},
   "outputs": [],
   "source": []
  }
 ],
 "metadata": {
  "kernelspec": {
   "display_name": "mambastock",
   "language": "python",
   "name": "python3"
  },
  "language_info": {
   "codemirror_mode": {
    "name": "ipython",
    "version": 3
   },
   "file_extension": ".py",
   "mimetype": "text/x-python",
   "name": "python",
   "nbconvert_exporter": "python",
   "pygments_lexer": "ipython3",
   "version": "3.7.16"
  }
 },
 "nbformat": 4,
 "nbformat_minor": 5
}
