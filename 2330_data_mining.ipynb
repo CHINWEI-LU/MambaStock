{
 "cells": [
  {
   "cell_type": "code",
   "execution_count": 1,
   "id": "8872d212",
   "metadata": {},
   "outputs": [],
   "source": [
    "import numpy as np\n",
    "import pandas as pd\n",
    "import matplotlib.pyplot as plt"
   ]
  },
  {
   "cell_type": "code",
   "execution_count": 2,
   "id": "095928f1",
   "metadata": {},
   "outputs": [],
   "source": [
    "def scatterplot_features(X, y, feature_names=None, save_dir=None):\n",
    "    \"\"\"\n",
    "    Plot scatterplots of each X_i vs y\n",
    "\n",
    "    Parameters:\n",
    "        X: ndarray of shape (n_samples, n_features)\n",
    "        y: ndarray of shape (n_samples,)\n",
    "        feature_names: optional list of feature names\n",
    "        save_dir: optional directory to save plots\n",
    "    \"\"\"\n",
    "    n_features = X.shape[1]\n",
    "    \n",
    "    for i in range(n_features):\n",
    "        plt.figure(figsize=(5,4))\n",
    "        plt.scatter(X[:, i], y, alpha=0.5)\n",
    "        fname = f\"Feature {i}\" if not feature_names else feature_names[i]\n",
    "        plt.title(f\"{fname} vs Target\")\n",
    "        plt.xlabel(fname)\n",
    "        plt.ylabel(\"Target (y)\")\n",
    "        plt.grid(True)\n",
    "\n",
    "        if save_dir:\n",
    "            plt.savefig(f\"{save_dir}/scatter_{fname}.png\", dpi=150)\n",
    "            plt.close()\n",
    "        else:\n",
    "            plt.show()"
   ]
  },
  {
   "cell_type": "code",
   "execution_count": null,
   "id": "8e6e31b7",
   "metadata": {},
   "outputs": [],
   "source": [
    "ts_code=2330\n",
    "\n",
    "data = pd.read_csv(str(ts_code)+\"_value\"+'.csv')\n",
    "data['trade_date'] = pd.to_datetime(data['trade_date'], format='%Y/%m/%d')\n",
    "\n",
    "# 拆離 label 欄位\n",
    "close = data.pop('close_TW').values\n",
    "ratechg = data['close_TW_roc'].values\n",
    "data.drop(columns=['close_TW_roc'], inplace=True)\n",
    "\n",
    "X = data.iloc[:, 4:].values  # shape = (n_samples, n_features)\n",
    "y = ratechg      # y = close_TW 的漲跌百分比\n",
    "feature_names = data.columns.tolist()\n",
    "\n",
    "scatterplot_features(X, y, feature_names=feature_names)"
   ]
  },
  {
   "cell_type": "code",
   "execution_count": null,
   "id": "1135e9aa",
   "metadata": {},
   "outputs": [],
   "source": [
    "val_size = int(len(trainX) * val_ratio)\n",
    "    \n",
    "X_train = trainX[:-val_size]\n",
    "y_train = trainy[:-val_size]\n",
    "X_val = trainX[-val_size:]\n",
    "y_val = trainy[-val_size:]\n",
    "\n",
    "xt = torch.from_numpy(X_train).float().unsqueeze(1) "
   ]
  },
  {
   "cell_type": "code",
   "execution_count": 4,
   "id": "df7b7aa7",
   "metadata": {},
   "outputs": [],
   "source": [
    "import torch\n",
    "ts_code=2330\n",
    "n_test=350\n",
    "val_ratio=0.2\n",
    "\n",
    "data = pd.read_csv(str(ts_code)+\"_value\"+'.csv')\n",
    "data['trade_date'] = pd.to_datetime(data['trade_date'], format='%Y/%m/%d')\n",
    "\n",
    "# 拆離 label 欄位\n",
    "close = data.pop('close_TW').values\n",
    "ratechg = data['close_TW_roc'].values\n",
    "data.drop(columns=['close_TW_roc'], inplace=True)\n",
    "dat = data.iloc[:, 4:].values\n",
    "\n",
    "trainX, testX = dat[:-n_test], dat[-n_test:]\n",
    "trainy = ratechg[:-n_test]\n",
    "\n",
    "val_size = int(len(trainX) * val_ratio)\n",
    "\n",
    "\n",
    "X_train = trainX[:-val_size]\n",
    "y_train = trainy[:-val_size]\n",
    "X_val = trainX[-val_size:]\n",
    "y_val = trainy[-val_size:]\n",
    "\n",
    "xt = torch.from_numpy(X_train).float().unsqueeze(1)  # → (batch_size, 1, feature_dim)\n",
    "xv = torch.from_numpy(X_val).float().unsqueeze(1)\n",
    "x_test = torch.from_numpy(testX).float().unsqueeze(1)\n",
    "\n",
    "yt = torch.from_numpy(y_train).float()\n",
    "yv = torch.from_numpy(y_val).float()\n",
    "\n",
    "\n"
   ]
  },
  {
   "cell_type": "code",
   "execution_count": 5,
   "id": "2ace5327",
   "metadata": {},
   "outputs": [
    {
     "data": {
      "text/plain": [
       "torch.Size([1736, 1, 59])"
      ]
     },
     "execution_count": 5,
     "metadata": {},
     "output_type": "execute_result"
    }
   ],
   "source": [
    "xt.shape"
   ]
  },
  {
   "cell_type": "code",
   "execution_count": null,
   "id": "917f5748",
   "metadata": {},
   "outputs": [],
   "source": []
  }
 ],
 "metadata": {
  "kernelspec": {
   "display_name": "mambastock",
   "language": "python",
   "name": "python3"
  },
  "language_info": {
   "codemirror_mode": {
    "name": "ipython",
    "version": 3
   },
   "file_extension": ".py",
   "mimetype": "text/x-python",
   "name": "python",
   "nbconvert_exporter": "python",
   "pygments_lexer": "ipython3",
   "version": "3.7.16"
  }
 },
 "nbformat": 4,
 "nbformat_minor": 5
}
